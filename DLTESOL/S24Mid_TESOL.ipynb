{
  "nbformat": 4,
  "nbformat_minor": 0,
  "metadata": {
    "colab": {
      "private_outputs": true,
      "provenance": [],
      "include_colab_link": true
    },
    "kernelspec": {
      "name": "python3",
      "display_name": "Python 3"
    },
    "language_info": {
      "name": "python"
    }
  },
  "cells": [
    {
      "cell_type": "markdown",
      "metadata": {
        "id": "view-in-github",
        "colab_type": "text"
      },
      "source": [
        "<a href=\"https://colab.research.google.com/github/bori0824/midterm24/blob/main/DLTESOL/S24Mid_TESOL.ipynb\" target=\"_parent\"><img src=\"https://colab.research.google.com/assets/colab-badge.svg\" alt=\"Open In Colab\"/></a>"
      ]
    },
    {
      "cell_type": "markdown",
      "source": [
        "# 💦 S24 Midterm grade check [0507]"
      ],
      "metadata": {
        "id": "A1VTXsJBBLqU"
      }
    },
    {
      "cell_type": "code",
      "source": [
        "# Step 1: Mount Google Drive\n",
        "from google.colab import drive\n",
        "drive.mount('/content/drive')"
      ],
      "metadata": {
        "id": "fgSCje2O93lP"
      },
      "execution_count": null,
      "outputs": []
    },
    {
      "cell_type": "code",
      "source": [
        "%%capture\n",
        "!pip install gradio\n",
        "# !pip uninstall spacy weasel -y"
      ],
      "metadata": {
        "id": "JT_p7lHl-J46"
      },
      "execution_count": null,
      "outputs": []
    },
    {
      "cell_type": "code",
      "execution_count": null,
      "metadata": {
        "id": "_Y2FEWxb91rf"
      },
      "outputs": [],
      "source": [
        "# Step 2: Read the CSV file\n",
        "import pandas as pd\n",
        "\n",
        "# Update the path below to the location of your CSV file on Google Drive\n",
        "file_path = '/content/drive/My Drive/2024Spring/CDLTESOL/mid-tesol.csv'\n",
        "data = pd.read_csv(file_path)\n",
        "\n",
        "# Convert SID to string and strip any whitespace\n",
        "data['SID'] = data['SID'].astype(str).str.strip()\n",
        "\n",
        "# Step 3: Create a Gradio app\n",
        "import gradio as gr\n",
        "\n",
        "def check_sid(sid):\n",
        "    if sid in data['SID'].values:\n",
        "        student_data = data[data['SID'] == sid]\n",
        "        multiple = student_data['Multiple'].values[0]\n",
        "        coding = student_data['Coding'].values[0]\n",
        "        total = student_data['Total'].values[0]\n",
        "        return multiple, coding, total\n",
        "    else:\n",
        "        return \"Not found\", \"Not found\", \"Not found\"\n",
        "\n",
        "iface = gr.Interface(fn=check_sid,\n",
        "                     inputs=gr.Textbox(label=\"Enter Student ID (SID)\"),\n",
        "                     outputs=[gr.Textbox(label=\"Multiple (out of 11); Average = 8.1\"),\n",
        "                              gr.Textbox(label=\"Coding (out of 20); Average = 15.3\"),\n",
        "                              gr.Textbox(label=\"Total (out of 31); Average = 23.4\")],\n",
        "                     title=\"Student Performance Lookup\")\n",
        "\n",
        "iface.launch()\n"
      ]
    }
  ]
}